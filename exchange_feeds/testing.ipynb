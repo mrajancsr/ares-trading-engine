{
 "cells": [
  {
   "cell_type": "code",
   "execution_count": null,
   "metadata": {},
   "outputs": [],
   "source": [
    "import redis\n",
    "r = redis.Redis()\n",
    "r.mset({'Croatia': 'Zagreb', 'Bahamas': 'Nassau'})\n",
    "r.get(\"Bahamas\")"
   ]
  },
  {
   "cell_type": "code",
   "execution_count": null,
   "metadata": {},
   "outputs": [],
   "source": [
    "import datetime\n",
    "today = datetime.date.today().isoformat()\n",
    "visitors = {'dan', 'jon', 'alex'}\n",
    "r.sadd(today, *visitors)"
   ]
  },
  {
   "cell_type": "code",
   "execution_count": null,
   "metadata": {},
   "outputs": [],
   "source": [
    "r.smembers(today)"
   ]
  },
  {
   "cell_type": "code",
   "execution_count": null,
   "metadata": {},
   "outputs": [],
   "source": [
    "r.scard(datetime.date.today().isoformat())"
   ]
  },
  {
   "cell_type": "code",
   "execution_count": null,
   "metadata": {},
   "outputs": [],
   "source": [
    "import random\n",
    "\n",
    "random.seed(444)\n",
    "hats = {f\"hat:{random.getrandbits(32)}\": i for i in (\n",
    "    {\n",
    "        \"color\": \"black\",\n",
    "        \"price\": 49.99,\n",
    "        \"style\": \"fitted\",\n",
    "        \"quantity\": 1000,\n",
    "        \"npurchased\": 0,\n",
    "    },\n",
    "    {\n",
    "        \"color\": \"maroon\",\n",
    "        \"price\": 59.99,\n",
    "        \"style\": \"hipster\",\n",
    "        \"quantity\": 500,\n",
    "        \"npurchased\": 0,\n",
    "    },\n",
    "    {\n",
    "        \"color\": \"green\",\n",
    "        \"price\": 99.99,\n",
    "        \"style\": \"baseball\",\n",
    "        \"quantity\": 200,\n",
    "        \"npurchased\": 0,\n",
    "    })\n",
    "}"
   ]
  },
  {
   "cell_type": "code",
   "execution_count": null,
   "metadata": {},
   "outputs": [],
   "source": [
    "hats"
   ]
  },
  {
   "cell_type": "code",
   "execution_count": null,
   "metadata": {},
   "outputs": [],
   "source": [
    "hats"
   ]
  },
  {
   "cell_type": "code",
   "execution_count": null,
   "metadata": {},
   "outputs": [],
   "source": [
    "r = redis.Redis(db=0)"
   ]
  },
  {
   "cell_type": "code",
   "execution_count": null,
   "metadata": {},
   "outputs": [],
   "source": [
    "with r.pipeline() as pipe:\n",
    "    for h_id, hat in hats.items():\n",
    "       pipe.hmset(h_id, hat)\n",
    "    pipe.execute()"
   ]
  },
  {
   "cell_type": "code",
   "execution_count": null,
   "metadata": {},
   "outputs": [],
   "source": [
    "import websockets\n",
    "sym = \"ethusdt\""
   ]
  },
  {
   "cell_type": "code",
   "execution_count": null,
   "metadata": {},
   "outputs": [],
   "source": [
    "from exchange_feeds.exchange_constants import BINANCE_BASE_WS, BINANCE_TRADE_BLOTTER\n",
    "url = BINANCE_BASE_WS + sym + BINANCE_TRADE_BLOTTER"
   ]
  },
  {
   "cell_type": "code",
   "execution_count": null,
   "metadata": {},
   "outputs": [],
   "source": [
    "ws = await websockets.connect(url)"
   ]
  },
  {
   "cell_type": "code",
   "execution_count": null,
   "metadata": {},
   "outputs": [],
   "source": [
    "obj = await ws.recv()"
   ]
  },
  {
   "cell_type": "code",
   "execution_count": null,
   "metadata": {},
   "outputs": [],
   "source": [
    "obj"
   ]
  },
  {
   "cell_type": "code",
   "execution_count": null,
   "metadata": {},
   "outputs": [],
   "source": [
    "await ws.close()"
   ]
  },
  {
   "cell_type": "code",
   "execution_count": null,
   "metadata": {},
   "outputs": [],
   "source": [
    "r.hgetall(\"hat:56854717\")"
   ]
  },
  {
   "cell_type": "code",
   "execution_count": null,
   "metadata": {},
   "outputs": [],
   "source": [
    "r.hincrby('hat:56854717', 'quantity', -1)"
   ]
  },
  {
   "cell_type": "code",
   "execution_count": null,
   "metadata": {},
   "outputs": [],
   "source": [
    "r.hgetall(\"hat:56854717\")"
   ]
  },
  {
   "cell_type": "code",
   "execution_count": null,
   "metadata": {},
   "outputs": [],
   "source": [
    "r.hincrby(\"hat:56854717\", 'npurchased', 1)"
   ]
  },
  {
   "cell_type": "code",
   "execution_count": null,
   "metadata": {},
   "outputs": [],
   "source": [
    "r.hgetall(\"hat:56854717\")"
   ]
  },
  {
   "cell_type": "code",
   "execution_count": null,
   "metadata": {},
   "outputs": [],
   "source": [
    "# redis time series practice\n",
    "import asyncio\n",
    "import aioredis\n",
    "from typing import Dict\n",
    "\n",
    "async def write_to_redis(stream_name: str, fields: Dict[str, str]):\n",
    "    stream = 'chennai'\n",
    "\n",
    "    redis = await aioredis.from_url('redis://localhost')\n",
    "    result = await redis.xadd(stream, fields)\n",
    "    print(result)\n",
    "    await redis.close()\n",
    "\n",
    "stream = 'chennai'\n",
    "fields = {'temperature': '26', 'humidity': '10'}\n",
    "#await write_to_redis(stream, fields = fields)"
   ]
  },
  {
   "cell_type": "code",
   "execution_count": null,
   "metadata": {},
   "outputs": [],
   "source": [
    "\n",
    "async def read_from_redis(stream_name: str):\n",
    "    redis = await aioredis.from_url('redis://localhost')\n",
    "    result = await redis.xrange(stream_name)\n",
    "    \n",
    "    await redis.close()\n",
    "    return result\n",
    "\n",
    "stream_name = 'dydx-ethusd-L1'\n",
    "res1 = await read_from_redis(stream_name)"
   ]
  },
  {
   "cell_type": "code",
   "execution_count": null,
   "metadata": {},
   "outputs": [],
   "source": [
    "res = await redis.xread({stream_name:b'0-0', 'ftx-btcperp-L1': b'0-0'})"
   ]
  },
  {
   "cell_type": "code",
   "execution_count": 1,
   "metadata": {},
   "outputs": [
    {
     "ename": "NameError",
     "evalue": "name 'aioredis' is not defined",
     "output_type": "error",
     "traceback": [
      "\u001b[0;31m---------------------------------------------------------------------------\u001b[0m",
      "\u001b[0;31mNameError\u001b[0m                                 Traceback (most recent call last)",
      "\u001b[1;32m/Users/rajmani/Documents/research/Home/python/phobos-trading-engine/exchange_feeds/testing.ipynb Cell 24'\u001b[0m in \u001b[0;36m<module>\u001b[0;34m\u001b[0m\n\u001b[1;32m      <a href='vscode-notebook-cell:/Users/rajmani/Documents/research/Home/python/phobos-trading-engine/exchange_feeds/testing.ipynb#ch0000023?line=1'>2</a>\u001b[0m \u001b[39mfrom\u001b[39;00m \u001b[39mexchange_constants\u001b[39;00m \u001b[39mimport\u001b[39;00m STREAM_NAMES\n\u001b[1;32m      <a href='vscode-notebook-cell:/Users/rajmani/Documents/research/Home/python/phobos-trading-engine/exchange_feeds/testing.ipynb#ch0000023?line=2'>3</a>\u001b[0m \u001b[39mfrom\u001b[39;00m \u001b[39mtime\u001b[39;00m \u001b[39mimport\u001b[39;00m perf_counter\n\u001b[0;32m----> <a href='vscode-notebook-cell:/Users/rajmani/Documents/research/Home/python/phobos-trading-engine/exchange_feeds/testing.ipynb#ch0000023?line=3'>4</a>\u001b[0m redis \u001b[39m=\u001b[39m aioredis\u001b[39m.\u001b[39mfrom_url(LOCALHOST, decode_responses\u001b[39m=\u001b[39m\u001b[39mTrue\u001b[39;00m)\n",
      "\u001b[0;31mNameError\u001b[0m: name 'aioredis' is not defined"
     ]
    }
   ],
   "source": [
    "from redistoolz import read_all_feeds_from_redis, LOCALHOST, read_feeds_from_redis_synchronous, push_feed_to_postgres, read_feed_from_redis\n",
    "from exchange_constants import STREAM_NAMES\n",
    "from time import perf_counter\n",
    "redis = aioredis.from_url(LOCALHOST, decode_responses=True)"
   ]
  },
  {
   "cell_type": "code",
   "execution_count": null,
   "metadata": {},
   "outputs": [],
   "source": [
    "\n",
    "start = perf_counter()\n",
    "result = await read_feeds_from_redis_synchronous(STREAM_NAMES, redis)\n",
    "end = perf_counter()\n",
    "print(f\"the program finished in {(end-start):.4f} seconds\")    \n"
   ]
  },
  {
   "cell_type": "code",
   "execution_count": null,
   "metadata": {},
   "outputs": [],
   "source": [
    "from phoboslab.dbhelper import DBReader\n",
    "db = DBReader()\n"
   ]
  },
  {
   "cell_type": "code",
   "execution_count": null,
   "metadata": {},
   "outputs": [],
   "source": [
    "start = perf_counter()\n",
    "result = await read_all_feeds_from_redis(STREAM_NAMES, redis)\n",
    "end = perf_counter()\n",
    "print(f\"the program finished in {(end-start):.4f} seconds\")\n"
   ]
  },
  {
   "cell_type": "code",
   "execution_count": null,
   "metadata": {},
   "outputs": [],
   "source": [
    "import pandas as pd"
   ]
  },
  {
   "cell_type": "code",
   "execution_count": null,
   "metadata": {},
   "outputs": [],
   "source": [
    "result[4].stream_name"
   ]
  },
  {
   "cell_type": "code",
   "execution_count": null,
   "metadata": {},
   "outputs": [],
   "source": [
    "result[0].get_ids()"
   ]
  },
  {
   "cell_type": "code",
   "execution_count": null,
   "metadata": {},
   "outputs": [],
   "source": [
    "stream_name = result[4].stream_name\n",
    "await redis.xdel(stream_name, *result[4].get_ids())"
   ]
  },
  {
   "cell_type": "code",
   "execution_count": null,
   "metadata": {},
   "outputs": [],
   "source": [
    "from phoboslab.dbhelper import DBReader\n",
    "db = DBReader()\n",
    "#await push_feed_to_postgres(result[0], db=db)"
   ]
  },
  {
   "cell_type": "code",
   "execution_count": null,
   "metadata": {},
   "outputs": [],
   "source": [
    "async def attempt(stream_name, redis):\n",
    "    feed = await read_feed_from_redis(stream_name, redis)\n",
    "    await push_feed_to_postgres(feed, db)\n"
   ]
  },
  {
   "cell_type": "code",
   "execution_count": null,
   "metadata": {},
   "outputs": [],
   "source": [
    "async def main(stream_names, redis):\n",
    "    tasks = [asyncio.create_task(attempt(stream, redis)) for stream in stream_names]\n",
    "    await asyncio.gather(*tasks)\n",
    "    await redis.close()"
   ]
  },
  {
   "cell_type": "code",
   "execution_count": null,
   "metadata": {},
   "outputs": [],
   "source": [
    "result"
   ]
  },
  {
   "cell_type": "code",
   "execution_count": null,
   "metadata": {},
   "outputs": [],
   "source": [
    "stream_names = ['binance-ethusdt-blotter', 'binance-ethusdt-L1']\n",
    "await main(stream_names, redis)"
   ]
  },
  {
   "cell_type": "code",
   "execution_count": null,
   "metadata": {},
   "outputs": [],
   "source": [
    "feed[0].column_names"
   ]
  },
  {
   "cell_type": "code",
   "execution_count": null,
   "metadata": {},
   "outputs": [],
   "source": [
    "group = 'mygroup'\n",
    "consumer = 'raj'\n",
    "streams = {'chennai': '>'}\n",
    "result = await redis.xreadgroup(group, consumer, streams, count=2)"
   ]
  },
  {
   "cell_type": "code",
   "execution_count": null,
   "metadata": {},
   "outputs": [],
   "source": [
    "result"
   ]
  },
  {
   "cell_type": "code",
   "execution_count": null,
   "metadata": {},
   "outputs": [],
   "source": [
    "await redis.xack('chennai', 'mygroup', '1645027265298')"
   ]
  },
  {
   "cell_type": "code",
   "execution_count": null,
   "metadata": {},
   "outputs": [],
   "source": [
    "async def query_between_time(stream_name: str, start: str, end: str):\n",
    "    redis = await aioredis.from_url('redis://localhost')\n",
    "    result = await redis.xrange(name=stream, min=start, max=end)\n",
    "    print(result)\n",
    "    await redis.close()\n"
   ]
  },
  {
   "cell_type": "code",
   "execution_count": null,
   "metadata": {},
   "outputs": [],
   "source": [
    "start_time = '1534866659896'\n",
    "end_time = '1644333923900'\n",
    "await query_between_time('chennai', start_time, end_time)"
   ]
  },
  {
   "cell_type": "code",
   "execution_count": null,
   "metadata": {},
   "outputs": [],
   "source": [
    "async def xread_from_redis(stream_name: str):\n",
    "    redis = await aioredis.from_url('redis://localhost')\n",
    "    result = await redis.xread(stream_name, block=5000, count=None)\n",
    "    print(result)\n",
    "    await redis.close()\n",
    "\n",
    "stream = 'chennai'\n",
    "fields = {'temperature': '26', 'humidity': '10'}\n",
    "#await xread_from_redis({'chennai':'$'})\n",
    "#await write_to_redis(stream, fields = fields)"
   ]
  },
  {
   "cell_type": "code",
   "execution_count": null,
   "metadata": {},
   "outputs": [],
   "source": [
    "await xread_from_redis({'chennai':'$'})\n",
    "await write_to_redis(stream, fields = fields)\n",
    "await xread_from_redis({'chennai':'$'})"
   ]
  },
  {
   "cell_type": "code",
   "execution_count": null,
   "metadata": {},
   "outputs": [],
   "source": [
    "await xread_from_redis({'chennai':'$', 'coimbatore': '$'})\n"
   ]
  },
  {
   "cell_type": "code",
   "execution_count": null,
   "metadata": {},
   "outputs": [],
   "source": [
    "await read_from_redis('coimbatore')"
   ]
  },
  {
   "cell_type": "code",
   "execution_count": null,
   "metadata": {},
   "outputs": [],
   "source": [
    "write_to_redis(stream, fields = fields)"
   ]
  },
  {
   "cell_type": "code",
   "execution_count": null,
   "metadata": {},
   "outputs": [],
   "source": [
    "async def count():\n",
    "    print(\"one\")\n",
    "    await asyncio.sleep(1)\n",
    "    print(\"two\")\n",
    "\n",
    "await asyncio.gather(count(), count(), count())\n"
   ]
  },
  {
   "cell_type": "code",
   "execution_count": null,
   "metadata": {},
   "outputs": [],
   "source": [
    "for i in range(3):\n",
    "    await test(i)"
   ]
  },
  {
   "cell_type": "code",
   "execution_count": null,
   "metadata": {},
   "outputs": [],
   "source": [
    "loop = asyncio.get_event_loop()\n",
    "aioredis.from_url('redis://localhost', loop=loop)"
   ]
  },
  {
   "cell_type": "code",
   "execution_count": null,
   "metadata": {},
   "outputs": [],
   "source": [
    "RECORDS = 10\n",
    "import random\n",
    "async def add_message_with_sleep(redis, loop, stream):\n",
    "    records = RECORDS + 1\n",
    "    for _ in range(records):\n",
    "        temperature = str(random.randrange(20, 30))\n",
    "        humidity = str(random.randrange(10, 20))"
   ]
  },
  {
   "cell_type": "code",
   "execution_count": null,
   "metadata": {},
   "outputs": [],
   "source": [
    "temperature = str(random.randrange(20, 30))\n"
   ]
  },
  {
   "cell_type": "code",
   "execution_count": null,
   "metadata": {},
   "outputs": [],
   "source": [
    "temperature"
   ]
  },
  {
   "cell_type": "code",
   "execution_count": null,
   "metadata": {},
   "outputs": [],
   "source": [
    "import time\n",
    "RECORDS = 10000\n",
    "start = time.time()\n",
    "records = RECORDS + 1\n",
    "check = []\n",
    "for _ in range(records):\n",
    "    temperature = str(random.randrange(20, 30))\n",
    "    humidity = str(random.randrange(10, 20))\n",
    "    fields = {\n",
    "        \"temperature\": temperature,\n",
    "        \"humidity\": humidity,\n",
    "    }\n",
    "check.append(fields)\n",
    "end = time.time()\n",
    "print(f\"finished in {end - start} seconds\")"
   ]
  },
  {
   "cell_type": "code",
   "execution_count": null,
   "metadata": {},
   "outputs": [],
   "source": [
    "import websockets\n",
    "from exchange_feeds.exchange_constants import BINANCE_BASE_WS, BINANCE_TRADE_BLOTTER\n",
    "sym = 'ethusdt'\n",
    "url = BINANCE_BASE_WS + sym + BINANCE_TRADE_BLOTTER\n"
   ]
  },
  {
   "cell_type": "code",
   "execution_count": null,
   "metadata": {},
   "outputs": [],
   "source": [
    "from binance.binance_blotter import BinanceBlotter\n",
    "bb = BinanceBlotter(url)"
   ]
  },
  {
   "cell_type": "code",
   "execution_count": null,
   "metadata": {},
   "outputs": [],
   "source": [
    "type(bb)"
   ]
  },
  {
   "cell_type": "code",
   "execution_count": null,
   "metadata": {},
   "outputs": [],
   "source": [
    "async def get_message():\n",
    "    async with websockets.connect(url) as websocket:\n",
    "        res = await websocket.recv()\n",
    "        print(res)"
   ]
  },
  {
   "cell_type": "code",
   "execution_count": null,
   "metadata": {},
   "outputs": [],
   "source": [
    "await get_message()"
   ]
  },
  {
   "cell_type": "code",
   "execution_count": null,
   "metadata": {},
   "outputs": [],
   "source": [
    "url"
   ]
  },
  {
   "cell_type": "code",
   "execution_count": null,
   "metadata": {},
   "outputs": [],
   "source": [
    "url"
   ]
  },
  {
   "cell_type": "code",
   "execution_count": null,
   "metadata": {},
   "outputs": [],
   "source": [
    "BINANCE_TRADE_BLOTTER"
   ]
  },
  {
   "cell_type": "code",
   "execution_count": null,
   "metadata": {},
   "outputs": [],
   "source": [
    "os.path.join(BINANCE_BASE_WS, sym, BINANCE_TRADE_BLOTTER)"
   ]
  },
  {
   "cell_type": "code",
   "execution_count": null,
   "metadata": {},
   "outputs": [],
   "source": [
    "from exchange_feeds.exchange_constants import DYDX_BASE_WS, DYDX_SUBSCRIPTION_PAYLOAD\n",
    "from exchange_feeds.dydx.dydx_orderbook import DYDXOrderBook\n",
    "import pandas as pd \n"
   ]
  },
  {
   "cell_type": "code",
   "execution_count": null,
   "metadata": {},
   "outputs": [],
   "source": [
    "cache = []\n",
    "async def main():\n",
    "    symbol = \"ETH-USD\"\n",
    "    url = DYDX_BASE_WS\n",
    "    async with DYDXOrderBook(url, symbol) as book:\n",
    "        await book.send()\n",
    "        await book.receive()\n",
    "        await book.receive()\n",
    "        for _ in range(5):\n",
    "            result = await book.receive()\n",
    "            cache.append(result)\n",
    "        return result\n"
   ]
  },
  {
   "cell_type": "code",
   "execution_count": null,
   "metadata": {},
   "outputs": [],
   "source": [
    "result = await main()"
   ]
  },
  {
   "cell_type": "code",
   "execution_count": null,
   "metadata": {},
   "outputs": [],
   "source": [
    "result\n"
   ]
  },
  {
   "cell_type": "code",
   "execution_count": null,
   "metadata": {},
   "outputs": [],
   "source": [
    "pd.DataFrame(cache).sort_values(by='offset')"
   ]
  },
  {
   "cell_type": "code",
   "execution_count": null,
   "metadata": {},
   "outputs": [],
   "source": [
    "import heapq\n",
    "from limit_order_book.book import LimitOrderBook\n",
    "\n",
    "book = LimitOrderBook()\n",
    "\n"
   ]
  },
  {
   "cell_type": "code",
   "execution_count": null,
   "metadata": {},
   "outputs": [],
   "source": [
    "for item in sorted(cache, key=lambda x: x['offset']):\n",
    "    await book.update_bids(item)\n",
    "    await book.update_offers(item)"
   ]
  },
  {
   "cell_type": "code",
   "execution_count": null,
   "metadata": {},
   "outputs": [],
   "source": [
    "await book.best_bid()"
   ]
  },
  {
   "cell_type": "code",
   "execution_count": null,
   "metadata": {},
   "outputs": [],
   "source": [
    "await book.best_ask()"
   ]
  },
  {
   "cell_type": "code",
   "execution_count": null,
   "metadata": {},
   "outputs": [],
   "source": [
    "x = []\n",
    "x[-1]"
   ]
  },
  {
   "cell_type": "code",
   "execution_count": null,
   "metadata": {},
   "outputs": [],
   "source": [
    "x = []\n",
    "heapq.heappush(x, ['33', '44', []])"
   ]
  },
  {
   "cell_type": "code",
   "execution_count": null,
   "metadata": {},
   "outputs": [],
   "source": [
    "def get_x():\n",
    "    return 1\n"
   ]
  },
  {
   "cell_type": "code",
   "execution_count": null,
   "metadata": {},
   "outputs": [],
   "source": [
    "STREAM_NAMES"
   ]
  },
  {
   "cell_type": "code",
   "execution_count": null,
   "metadata": {},
   "outputs": [],
   "source": [
    "sorted(cache, key=lambda x: x['offset'])"
   ]
  },
  {
   "cell_type": "code",
   "execution_count": null,
   "metadata": {},
   "outputs": [],
   "source": [
    "book.ask_size()"
   ]
  },
  {
   "cell_type": "code",
   "execution_count": null,
   "metadata": {},
   "outputs": [],
   "source": [
    "if book.ask_size():\n",
    "    print(\"hmm\")"
   ]
  },
  {
   "cell_type": "code",
   "execution_count": null,
   "metadata": {},
   "outputs": [],
   "source": [
    "await book.best_bid()"
   ]
  },
  {
   "cell_type": "code",
   "execution_count": null,
   "metadata": {},
   "outputs": [],
   "source": [
    "await book.best_ask()"
   ]
  },
  {
   "cell_type": "code",
   "execution_count": null,
   "metadata": {},
   "outputs": [],
   "source": [
    "%timeit max(int('8431694293'), int('8431694256'))"
   ]
  },
  {
   "cell_type": "code",
   "execution_count": null,
   "metadata": {},
   "outputs": [],
   "source": []
  }
 ],
 "metadata": {
  "interpreter": {
   "hash": "51404423acc40c79c45300879b94146647714479c12f7da36b7edf213bd02428"
  },
  "kernelspec": {
   "display_name": "Python 3.9.10 64-bit",
   "language": "python",
   "name": "python3"
  },
  "language_info": {
   "codemirror_mode": {
    "name": "ipython",
    "version": 3
   },
   "file_extension": ".py",
   "mimetype": "text/x-python",
   "name": "python",
   "nbconvert_exporter": "python",
   "pygments_lexer": "ipython3",
   "version": "3.9.12"
  },
  "orig_nbformat": 4
 },
 "nbformat": 4,
 "nbformat_minor": 2
}
