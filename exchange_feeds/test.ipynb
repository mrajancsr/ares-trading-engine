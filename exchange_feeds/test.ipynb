{
 "cells": [
  {
   "cell_type": "code",
   "execution_count": null,
   "metadata": {},
   "outputs": [],
   "source": [
    "import time\n",
    "\n",
    "import boto3\n",
    "\n",
    "write_client = boto3.client(\"timestream-write\", region_name=\"us-east-1\")\n",
    "db_arn = write_client.create_database(DatabaseName=\"securities_master\")\n",
    "time.sleep(10)\n",
    "\n",
    "tbl_arn = write_client.create_table(\n",
    "    DatabaseName=\"securities_master\",\n",
    "    TableName=\"crypto\",\n",
    "    RetentionProperties={\n",
    "        \"MemoryStoreRetentionPeriodInHours\": 1,\n",
    "        \"MagneticStoreRetentionPeriodInDays\": 10,\n",
    "    },\n",
    ")"
   ]
  },
  {
   "cell_type": "code",
   "execution_count": null,
   "metadata": {},
   "outputs": [],
   "source": [
    "from botocore.config import Config\n",
    "import logging\n",
    "import requests\n",
    "import time\n",
    "from typing import Any, Dict, List\n",
    "\n",
    "def send_records(write_cliient, logger, records, db_name, tbl_name):\n",
    "    logger.info(\"sending %d records to TimeStream...\", len(records))\n",
    "    result = write_client .write_records(\n",
    "        DatabaseName=db_name, TableName=tbl_name, Records=records, CommonAttributes={},\n",
    "    )\n",
    "    status = result['ResponseMetadata']['HTTPStatusCode']\n",
    "    if status == 200:\n",
    "        logger.info(\"Successfully ingested %d records.\", len(records))\n",
    "    else:\n",
    "        logger.error(\n",
    "            \"Tried to ingest %d records.  Something went wrong.  Status %s\",\n",
    "            len(records),\n",
    "            status,\n",
    "        )\n",
    "\n",
    "\n"
   ]
  },
  {
   "cell_type": "code",
   "execution_count": null,
   "metadata": {},
   "outputs": [],
   "source": [
    "def ingest_records_into_timestream(records: List[Dict[str, Any]], db_name: str, tbl_name: str):\n",
    "    logger = logging.getLogger(__name__)\n",
    "    session = boto3.Session(region_name=\"us-east-1\")\n",
    "    write_client = session.client(\n",
    "        \"timestream-write\", \n",
    "        config=Config(\n",
    "            read_timeout=20, max_pool_connections=5000, retries={\"max_attempts\": 10}\n",
    "        )\n",
    "    )\n",
    "    send_records(write_client, logger, records, db_name, tbl_name)"
   ]
  },
  {
   "cell_type": "code",
   "execution_count": null,
   "metadata": {},
   "outputs": [],
   "source": [
    "symbol = 'BTC/USD'\n",
    "stream_name = 'kraken-blotter'\n",
    "from exchange_feeds.kraken import KrakenOrderBook\n",
    "count = 0\n",
    "async def stream():\n",
    "    count = 0\n",
    "    records = []\n",
    "    async with KrakenOrderBook(symbol, stream_name) as book:\n",
    "        await book.send()\n",
    "        while count <= 20:\n",
    "            record = await book.receive()\n",
    "            if not record:\n",
    "                continue\n",
    "            records.append(record)\n",
    "            count += 1\n",
    "    return records\n",
    "\n"
   ]
  },
  {
   "cell_type": "code",
   "execution_count": null,
   "metadata": {},
   "outputs": [],
   "source": [
    "records = await stream()"
   ]
  },
  {
   "cell_type": "code",
   "execution_count": null,
   "metadata": {},
   "outputs": [],
   "source": [
    "records = [x for x in records if x is not None]"
   ]
  },
  {
   "cell_type": "code",
   "execution_count": null,
   "metadata": {},
   "outputs": [],
   "source": [
    "def get_data_from_api(\n",
    "    api_url: str = \"https://min-api.cryptocompare.com/data/pricemulti?fsyms=BTC,ETH,REP,DASH&tsyms=USD\",\n",
    ") -> List[Dict[str, Any]]:\n",
    "    \"\"\"\n",
    "    Get data from API and transform it to a Timestream-friendly format\n",
    "    :param api_url: Cryptocompare API URL\n",
    "    :return: records to be ingested\n",
    "    \"\"\"\n",
    "    logger = logging.getLogger(__name__)\n",
    "    r = requests.get(api_url)\n",
    "    data = r.json()\n",
    "    \n",
    "    btc = data[\"BTC\"][\"USD\"]\n",
    "    return btc\n",
    "    eth = data[\"ETH\"][\"USD\"]\n",
    "    rep = data[\"REP\"][\"USD\"]\n",
    "    dash = data[\"DASH\"][\"USD\"]\n",
    "    now = str(int(round(time.time() * 1000)))\n",
    "    logger.info(\"Current timestamp for Timestream: %s. Current prices: %s\", now, data)\n",
    "    current_prices = [\n",
    "        {\n",
    "            \"Time\": now,\n",
    "            \"TimeUnit\": \"MILLISECONDS\",\n",
    "            \"Dimensions\": [{\"Name\": \"crypto\", \"Value\": \"BTC\"}],\n",
    "            \"MeasureName\": \"Price\",\n",
    "            \"MeasureValue\": str(btc),\n",
    "            \"MeasureValueType\": \"DOUBLE\",\n",
    "        },\n",
    "        {\n",
    "            \"Time\": now,\n",
    "            \"TimeUnit\": \"MILLISECONDS\",\n",
    "            \"Dimensions\": [{\"Name\": \"crypto\", \"Value\": \"ETH\"}],\n",
    "            \"MeasureName\": \"Price\",\n",
    "            \"MeasureValue\": str(eth),\n",
    "            \"MeasureValueType\": \"DOUBLE\",\n",
    "        },\n",
    "        {\n",
    "            \"Time\": now,\n",
    "            \"TimeUnit\": \"MILLISECONDS\",\n",
    "            \"Dimensions\": [{\"Name\": \"crypto\", \"Value\": \"DASH\"}],\n",
    "            \"MeasureName\": \"Price\",\n",
    "            \"MeasureValue\": str(dash),\n",
    "            \"MeasureValueType\": \"DOUBLE\",\n",
    "        },\n",
    "        {\n",
    "            \"Time\": now,\n",
    "            \"TimeUnit\": \"MILLISECONDS\",\n",
    "            \"Dimensions\": [{\"Name\": \"crypto\", \"Value\": \"REP\"}],\n",
    "            \"MeasureName\": \"Price\",\n",
    "            \"MeasureValue\": str(rep),\n",
    "            \"MeasureValueType\": \"DOUBLE\",\n",
    "        },\n",
    "    ]\n",
    "    return current_prices"
   ]
  },
  {
   "cell_type": "code",
   "execution_count": null,
   "metadata": {},
   "outputs": [],
   "source": [
    "record = {\n",
    "        \"Time\": str(int(round(time.time() * 1000))),\n",
    "        \"TimeUnit\": \"MILLISECONDS\",\n",
    "        \"Dimensions\": [{\"Name\": \"symbol\", \"Value\": \"BTC\"}, {\"Name\": 'bid', \"Value\": str(['33', '44'])}],\n",
    "        \"MeasureName\": \"prices and quantities\",\n",
    "        \"MeasureValues\": 'price',\n",
    "        \"MeasureValueType\": \"VARCHAR\",\n",
    "    }"
   ]
  },
  {
   "cell_type": "code",
   "execution_count": null,
   "metadata": {},
   "outputs": [],
   "source": [
    "ingest_records_into_timestream(record, 'securities_master', 'crypto')"
   ]
  },
  {
   "cell_type": "code",
   "execution_count": null,
   "metadata": {},
   "outputs": [],
   "source": []
  },
  {
   "cell_type": "code",
   "execution_count": null,
   "metadata": {},
   "outputs": [],
   "source": []
  },
  {
   "cell_type": "code",
   "execution_count": null,
   "metadata": {},
   "outputs": [],
   "source": []
  },
  {
   "cell_type": "code",
   "execution_count": null,
   "metadata": {},
   "outputs": [],
   "source": []
  },
  {
   "cell_type": "code",
   "execution_count": null,
   "metadata": {},
   "outputs": [],
   "source": [
    "compress = str(records[0]['asks'])"
   ]
  },
  {
   "cell_type": "code",
   "execution_count": null,
   "metadata": {},
   "outputs": [],
   "source": [
    "compress"
   ]
  },
  {
   "cell_type": "code",
   "execution_count": null,
   "metadata": {},
   "outputs": [],
   "source": []
  },
  {
   "cell_type": "code",
   "execution_count": null,
   "metadata": {},
   "outputs": [],
   "source": [
    "import awswrangler as wr\n",
    "import pandas as pd\n",
    "from datetime import datetime\n",
    "\n",
    "wr.timestream.create_database(\"sampleDB\")\n",
    "wr.timestream.create_table(\"sampleDB\", \"sampleTable\", memory_retention_hours=1, magnetic_retention_days=1);"
   ]
  },
  {
   "cell_type": "code",
   "execution_count": null,
   "metadata": {},
   "outputs": [],
   "source": [
    "import pandas as pd\n",
    "from datetime import datetime\n",
    "df = pd.DataFrame(\n",
    "    {\n",
    "        \"time\": [datetime.now()],\n",
    "        \"symbol\": [\"btc\"],\n",
    "        \"bids\": str(records[0]['bids']),\n",
    "        \"asks\": str(records[0]['asks']),\n",
    "        \"measure\": \"prices and quantities\"\n",
    "    }\n",
    ")\n",
    "\n",
    "\n",
    "rejected_records = wr.timestream.write(\n",
    "    df=df,\n",
    "    database=\"securities_master\",\n",
    "    table=\"sampleTable\",\n",
    "    time_col=\"time\",\n",
    "    dimensions_cols=[\"symbol\", \"bids\", \"asks\"],\n",
    "    measure_col=\"measure\"\n",
    ")\n",
    "\n",
    "print(f\"Number of rejected records: {len(rejected_records)}\")"
   ]
  },
  {
   "cell_type": "code",
   "execution_count": null,
   "metadata": {},
   "outputs": [],
   "source": [
    "records"
   ]
  },
  {
   "cell_type": "code",
   "execution_count": null,
   "metadata": {},
   "outputs": [],
   "source": [
    "cache = []\n",
    "def build_records_from_stream(record: List[List[Dict[str, Any]]]):\n",
    "        data = {\"time\": datetime.now(),\n",
    "        \"symbol\": record[0]['symbol'], \n",
    "        \"bids\": str(record[0]['bids']),\n",
    "        \"asks\": str(record[0]['asks']),\n",
    "        \"measure\": \"prices and quantities\"\n",
    "        }\n",
    "        cache.append(data)\n",
    "        \n",
    "\n"
   ]
  },
  {
   "cell_type": "code",
   "execution_count": null,
   "metadata": {},
   "outputs": [],
   "source": [
    "for record in records:\n",
    "    build_records_from_stream(record)\n",
    "\n",
    "\n",
    "    "
   ]
  },
  {
   "cell_type": "code",
   "execution_count": null,
   "metadata": {},
   "outputs": [],
   "source": [
    "df = pd.DataFrame(cache)"
   ]
  },
  {
   "cell_type": "code",
   "execution_count": null,
   "metadata": {},
   "outputs": [],
   "source": [
    "df = pd.DataFrame(\n",
    "    {\n",
    "        \"time\": [datetime.now()],\n",
    "        \"symbol\": [\"btc\"],\n",
    "        \"bids\": str(records[0]['bids']),\n",
    "        \"asks\": str(records[0]['asks']),\n",
    "        \"measure\": \"prices and quantities\"\n",
    "    }\n",
    ")"
   ]
  },
  {
   "cell_type": "code",
   "execution_count": null,
   "metadata": {},
   "outputs": [],
   "source": [
    "rejected_records = wr.timestream.write(\n",
    "    df=df,\n",
    "    database=\"sampleDB\",\n",
    "    table=\"sampleTable\",\n",
    "    time_col=\"time\",\n",
    "    dimensions_cols=[\"symbol\", \"bids\", \"asks\"],\n",
    "    measure_col=\"measure\"\n",
    ")\n",
    "\n",
    "print(f\"Number of rejected records: {len(rejected_records)}\")"
   ]
  },
  {
   "cell_type": "code",
   "execution_count": null,
   "metadata": {},
   "outputs": [],
   "source": [
    "async def fun():\n",
    "    return {'test': 2}"
   ]
  },
  {
   "cell_type": "code",
   "execution_count": null,
   "metadata": {},
   "outputs": [],
   "source": [
    "from timestreamtoolz import handle_record, CacheHandler"
   ]
  },
  {
   "cell_type": "code",
   "execution_count": null,
   "metadata": {},
   "outputs": [],
   "source": [
    "from exchange_feeds.kraken import KrakenOrderBook\n",
    "\n",
    "cache = CacheHandler()\n",
    "\n",
    "async def fun():\n",
    "    async with KrakenOrderBook('BTC/USD', 'kraken-orderbook') as book:\n",
    "        count = 0\n",
    "        await book.send()\n",
    "        while True:\n",
    "            records = await book.receive()\n",
    "            if not records:\n",
    "                continue\n",
    "            return records\n",
    "            \n"
   ]
  },
  {
   "cell_type": "code",
   "execution_count": null,
   "metadata": {},
   "outputs": [],
   "source": [
    "records = await fun()"
   ]
  },
  {
   "cell_type": "code",
   "execution_count": null,
   "metadata": {},
   "outputs": [],
   "source": [
    "records"
   ]
  },
  {
   "cell_type": "code",
   "execution_count": null,
   "metadata": {},
   "outputs": [],
   "source": [
    "async def fun2(records):\n",
    "    for record in records:\n",
    "        await handle_record(record=record, stream_name='kraken-orderbook', cache=cache, handle_lob=True, save=True, symbol='BTCUSD')\n",
    "    "
   ]
  },
  {
   "cell_type": "code",
   "execution_count": null,
   "metadata": {},
   "outputs": [],
   "source": [
    "await fun2(records)"
   ]
  },
  {
   "cell_type": "code",
   "execution_count": null,
   "metadata": {},
   "outputs": [],
   "source": [
    "datetime.datetime.now()"
   ]
  },
  {
   "cell_type": "code",
   "execution_count": null,
   "metadata": {},
   "outputs": [],
   "source": [
    "import pandas as pd\n",
    "df = pd.DataFrame(cache.values())"
   ]
  },
  {
   "cell_type": "code",
   "execution_count": null,
   "metadata": {},
   "outputs": [],
   "source": [
    "from timestreamtoolz import _push_records_to_timestream\n",
    "\n",
    "_push_records_to_timestream(cache)"
   ]
  },
  {
   "cell_type": "code",
   "execution_count": null,
   "metadata": {},
   "outputs": [],
   "source": [
    "df['time'][0]"
   ]
  },
  {
   "cell_type": "code",
   "execution_count": null,
   "metadata": {},
   "outputs": [],
   "source": [
    "import datetime\n",
    "rec = datetime.datetime.fromtimestamp(1649959027.682306)\n"
   ]
  },
  {
   "cell_type": "code",
   "execution_count": null,
   "metadata": {},
   "outputs": [],
   "source": [
    "rec"
   ]
  },
  {
   "cell_type": "code",
   "execution_count": null,
   "metadata": {},
   "outputs": [],
   "source": [
    "count = 0\n",
    "for record in records:\n",
    "    count += 1\n",
    "    print(record)\n",
    "    if count == 1:\n",
    "        break"
   ]
  },
  {
   "cell_type": "code",
   "execution_count": null,
   "metadata": {},
   "outputs": [],
   "source": [
    "book.update_bids(record)\n",
    "book.update_asks(record)"
   ]
  },
  {
   "cell_type": "code",
   "execution_count": null,
   "metadata": {},
   "outputs": [],
   "source": [
    "from exchange_feeds.constants import L2_ENABLED_STREAMS"
   ]
  },
  {
   "cell_type": "code",
   "execution_count": null,
   "metadata": {},
   "outputs": [],
   "source": [
    "new_record = book.to_frame() if 'kraken-orderbook' in L2_ENABLED_STREAMS else {}"
   ]
  },
  {
   "cell_type": "code",
   "execution_count": null,
   "metadata": {},
   "outputs": [],
   "source": [
    "bid = book.best_bid()\n",
    "ask = book.best_ask()"
   ]
  },
  {
   "cell_type": "code",
   "execution_count": null,
   "metadata": {},
   "outputs": [],
   "source": [
    "new_record[\"symbol\"] = 'BTCUSD'\n",
    "new_record[\"best_bid\"] = bid.price\n",
    "new_record[\"bid_size\"] = bid.size\n",
    "new_record[\"best_ask\"] = ask.price\n",
    "new_record[\"ask_size\"] = ask.size\n",
    "new_record[\"trxn_time\"] = new_record.get(\n",
    "    \"trxn_time\", max(bid.offset, ask.offset)\n",
    ")\n",
    "\n",
    "if 'kraken-orderbook' in L2_ENABLED_STREAMS:\n",
    "    new_record[\"best_bid_timestamp\"] = bid.offset\n",
    "    new_record[\"best_ask_timestamp\"] = ask.offset"
   ]
  },
  {
   "cell_type": "code",
   "execution_count": null,
   "metadata": {},
   "outputs": [],
   "source": [
    "L2_ENABLED_STREAMS"
   ]
  },
  {
   "cell_type": "code",
   "execution_count": null,
   "metadata": {},
   "outputs": [],
   "source": [
    "c = CacheHandler()\n",
    "c.add(new_record, True)"
   ]
  },
  {
   "cell_type": "code",
   "execution_count": null,
   "metadata": {},
   "outputs": [],
   "source": [
    "new_record"
   ]
  },
  {
   "cell_type": "code",
   "execution_count": 1,
   "metadata": {},
   "outputs": [
    {
     "name": "stdout",
     "output_type": "stream",
     "text": [
      "connected to Redis!\n",
      "reading from kraken-orderbook started\n"
     ]
    }
   ],
   "source": [
    "from redistoolz import read_feed_from_redis_once, connect_to_redis\n",
    "\n",
    "feed = await read_feed_from_redis_once('kraken-orderbook')"
   ]
  },
  {
   "cell_type": "code",
   "execution_count": 2,
   "metadata": {},
   "outputs": [],
   "source": [
    "import aioredis\n",
    "r = await aioredis.from_url(\"redis://localhost\", decode_responses=True)"
   ]
  },
  {
   "cell_type": "code",
   "execution_count": null,
   "metadata": {},
   "outputs": [],
   "source": [
    "check = await r.xrange('kraken-orderbook')"
   ]
  },
  {
   "cell_type": "code",
   "execution_count": null,
   "metadata": {},
   "outputs": [],
   "source": [
    "r = await connect_to_redis(\"writeonly\")"
   ]
  },
  {
   "cell_type": "code",
   "execution_count": null,
   "metadata": {},
   "outputs": [],
   "source": [
    "r.xdel"
   ]
  },
  {
   "cell_type": "code",
   "execution_count": null,
   "metadata": {},
   "outputs": [],
   "source": [
    "import boto3\n",
    "\n",
    "boto3.Session(profile_name='default')"
   ]
  },
  {
   "cell_type": "code",
   "execution_count": null,
   "metadata": {},
   "outputs": [],
   "source": [
    "import aioredis\n",
    "\n",
    "redis = await aioredis.from_url(\"redis://localhost\")\n"
   ]
  },
  {
   "cell_type": "code",
   "execution_count": null,
   "metadata": {},
   "outputs": [],
   "source": [
    "await redis.exists(\"test\")"
   ]
  },
  {
   "cell_type": "code",
   "execution_count": null,
   "metadata": {},
   "outputs": [],
   "source": [
    "async with redis.pipeline() as Pipe:\n",
    "    await Pipe.xadd(\"test\", {'hey': 3})\n",
    "    await Pipe.execute()"
   ]
  },
  {
   "cell_type": "code",
   "execution_count": null,
   "metadata": {},
   "outputs": [],
   "source": [
    "r = await aioredis.from_url(\"redis://localhost\", port=6379)"
   ]
  },
  {
   "cell_type": "code",
   "execution_count": null,
   "metadata": {},
   "outputs": [],
   "source": [
    "await r.xlen('kraken-orderbook')"
   ]
  },
  {
   "cell_type": "code",
   "execution_count": null,
   "metadata": {},
   "outputs": [],
   "source": [
    "res = await r.xread({'kraken-orderbook': b\"$\"}, block=0)"
   ]
  },
  {
   "cell_type": "code",
   "execution_count": 11,
   "metadata": {},
   "outputs": [
    {
     "name": "stdout",
     "output_type": "stream",
     "text": [
      "connected to Redis!\n"
     ]
    }
   ],
   "source": [
    "from redistoolz import connect_to_redis, RawFeed\n",
    "r = await connect_to_redis()\n",
    "result = await r.xrange('kraken-orderbook')"
   ]
  },
  {
   "cell_type": "code",
   "execution_count": null,
   "metadata": {},
   "outputs": [],
   "source": [
    "count = 0\n",
    "check = []\n",
    "while count < 3\n",
    "    res = await r.xread({'kraken-orderbook': b'$'}, block=0)\n",
    "    check.append(res)\n",
    "raw = RawFeed('kraken-orderbook', records=check)"
   ]
  },
  {
   "cell_type": "code",
   "execution_count": null,
   "metadata": {},
   "outputs": [],
   "source": [
    "result[1]"
   ]
  },
  {
   "cell_type": "code",
   "execution_count": 6,
   "metadata": {},
   "outputs": [],
   "source": [
    "res = await r.xread({'kraken-orderbook': b'$'}, block=0, count=10)"
   ]
  },
  {
   "cell_type": "code",
   "execution_count": 9,
   "metadata": {},
   "outputs": [
    {
     "data": {
      "text/plain": [
       "('1650299085489-0',\n",
       " {'asks': '[[1650299075.931969, 39148.6, 9.86364601], [1650299075.931969, 39148.7, 1.02323], [1650299075.931969, 39155.9, 0.57993846], [1650299075.931969, 39156.0, 0.57552583], [1650299075.931969, 39160.0, 0.60727851], [1650299075.931969, 39164.0, 0.59584468], [1650299075.931969, 39167.9, 0.47851047], [1650299075.931969, 39171.6, 0.30648388], [1650299075.931969, 39172.7, 0.12763991], [1650299075.931969, 39175.9, 0.00023876]]',\n",
       "  'bids': '[[1650299075.931969, 39148.5, 5.31635584], [1650299075.931969, 39148.4, 0.10354211], [1650299075.931969, 39147.7, 0.19603266], [1650299075.931969, 39147.6, 3.83084875], [1650299075.931969, 39147.5, 0.05534614], [1650299075.931969, 39147.4, 0.20826965], [1650299075.931969, 39147.3, 5.10365374], [1650299075.931969, 39147.1, 0.11992914], [1650299075.931969, 39146.7, 7.01886828], [1650299075.931969, 39146.6, 0.10034254]]',\n",
       "  'trxn_time': '1650299075.931969',\n",
       "  'symbol': 'BTCUSD',\n",
       "  'best_bid': '39146.6',\n",
       "  'bid_size': '0.10034254',\n",
       "  'best_ask': '39175.9',\n",
       "  'ask_size': '0.00023876',\n",
       "  'best_bid_timestamp': '1650299075.931969',\n",
       "  'best_ask_timestamp': '1650299075.931969'})"
      ]
     },
     "execution_count": 9,
     "metadata": {},
     "output_type": "execute_result"
    }
   ],
   "source": [
    "res[0][1][0]"
   ]
  },
  {
   "cell_type": "code",
   "execution_count": 12,
   "metadata": {},
   "outputs": [],
   "source": [
    "raw = RawFeed('kraken-orderbook', records=res[0][1])"
   ]
  },
  {
   "cell_type": "code",
   "execution_count": null,
   "metadata": {},
   "outputs": [],
   "source": [
    "list(raw.get_ids())"
   ]
  },
  {
   "cell_type": "code",
   "execution_count": null,
   "metadata": {},
   "outputs": [],
   "source": [
    "from redistoolz import push_feed_to_postgres\n",
    "\n",
    "await push_feed_to_postgres(raw)"
   ]
  },
  {
   "cell_type": "code",
   "execution_count": null,
   "metadata": {},
   "outputs": [],
   "source": [
    "import asyncpg"
   ]
  },
  {
   "cell_type": "code",
   "execution_count": 14,
   "metadata": {},
   "outputs": [
    {
     "name": "stdout",
     "output_type": "stream",
     "text": [
      "Connected to Postgres\n"
     ]
    }
   ],
   "source": [
    "from phobosdb import DBReader\n",
    "\n",
    "async with DBReader() as db:\n",
    "   records =  await db.async_fetch(\"select * from kraken_orderbook limit 10;\")"
   ]
  },
  {
   "cell_type": "code",
   "execution_count": 15,
   "metadata": {},
   "outputs": [
    {
     "name": "stdout",
     "output_type": "stream",
     "text": [
      "Connected to Postgres\n",
      "Connected to Postgres\n",
      "error:  syntax error at or near \"%\"\n"
     ]
    }
   ],
   "source": [
    "async with DBReader() as db:\n",
    "    table_name = raw.stream_name.replace(\"-\", \"_\")\n",
    "    column_names = raw.column_names\n",
    "    await db.async_push(raw.records, table_name, column_names)"
   ]
  },
  {
   "cell_type": "code",
   "execution_count": 31,
   "metadata": {},
   "outputs": [],
   "source": [
    "query = f\"\"\"INSERT INTO {table_name} ({column_names}) values (%s, %s, %s, %s, %s, %s, %s, %s, %s, %s);\"\"\""
   ]
  },
  {
   "cell_type": "code",
   "execution_count": 32,
   "metadata": {},
   "outputs": [
    {
     "data": {
      "text/plain": [
       "\"INSERT INTO kraken_orderbook (['asks', 'bids', 'trxn_time', 'symbol', 'best_bid', 'bid_size', 'best_ask', 'ask_size', 'best_bid_timestamp', 'best_ask_timestamp']) values (%s, %s, %s, %s, %s, %s, %s, %s, %s, %s);\""
      ]
     },
     "execution_count": 32,
     "metadata": {},
     "output_type": "execute_result"
    }
   ],
   "source": [
    "query"
   ]
  },
  {
   "cell_type": "code",
   "execution_count": 33,
   "metadata": {},
   "outputs": [
    {
     "name": "stdout",
     "output_type": "stream",
     "text": [
      "Connected to Postgres\n"
     ]
    }
   ],
   "source": [
    "db = DBReader()\n",
    "conn = await db.async_connect()"
   ]
  },
  {
   "cell_type": "code",
   "execution_count": 43,
   "metadata": {},
   "outputs": [
    {
     "ename": "UndefinedTableError",
     "evalue": "relation \"test_phobos\" does not exist",
     "output_type": "error",
     "traceback": [
      "\u001b[0;31m---------------------------------------------------------------------------\u001b[0m",
      "\u001b[0;31mUndefinedTableError\u001b[0m                       Traceback (most recent call last)",
      "\u001b[1;32m/Users/rajmani/Documents/research/Home/python/phobos-trading-engine/exchange_feeds/test.ipynb Cell 73'\u001b[0m in \u001b[0;36m<module>\u001b[0;34m\u001b[0m\n\u001b[0;32m----> <a href='vscode-notebook-cell:/Users/rajmani/Documents/research/Home/python/phobos-trading-engine/exchange_feeds/test.ipynb#ch0000138?line=0'>1</a>\u001b[0m \u001b[39mawait\u001b[39;00m conn\u001b[39m.\u001b[39mcopy_records_to_table(\u001b[39m'\u001b[39m\u001b[39mtest_phobos\u001b[39m\u001b[39m'\u001b[39m, records\u001b[39m=\u001b[39mraw\u001b[39m.\u001b[39mrecords, columns\u001b[39m=\u001b[39mcolumn_names)\n",
      "File \u001b[0;32m~/Documents/research/Home/python/phobos-trading-engine/py39/lib/python3.9/site-packages/asyncpg/connection.py:977\u001b[0m, in \u001b[0;36mConnection.copy_records_to_table\u001b[0;34m(self, table_name, records, columns, schema_name, timeout)\u001b[0m\n\u001b[1;32m    <a href='file:///Users/rajmani/Documents/research/Home/python/phobos-trading-engine/py39/lib/python3.9/site-packages/asyncpg/connection.py?line=971'>972</a>\u001b[0m     cols \u001b[39m=\u001b[39m \u001b[39m'\u001b[39m\u001b[39m'\u001b[39m\n\u001b[1;32m    <a href='file:///Users/rajmani/Documents/research/Home/python/phobos-trading-engine/py39/lib/python3.9/site-packages/asyncpg/connection.py?line=973'>974</a>\u001b[0m intro_query \u001b[39m=\u001b[39m \u001b[39m'\u001b[39m\u001b[39mSELECT \u001b[39m\u001b[39m{cols}\u001b[39;00m\u001b[39m FROM \u001b[39m\u001b[39m{tab}\u001b[39;00m\u001b[39m LIMIT 1\u001b[39m\u001b[39m'\u001b[39m\u001b[39m.\u001b[39mformat(\n\u001b[1;32m    <a href='file:///Users/rajmani/Documents/research/Home/python/phobos-trading-engine/py39/lib/python3.9/site-packages/asyncpg/connection.py?line=974'>975</a>\u001b[0m     tab\u001b[39m=\u001b[39mtabname, cols\u001b[39m=\u001b[39mcol_list)\n\u001b[0;32m--> <a href='file:///Users/rajmani/Documents/research/Home/python/phobos-trading-engine/py39/lib/python3.9/site-packages/asyncpg/connection.py?line=976'>977</a>\u001b[0m intro_ps \u001b[39m=\u001b[39m \u001b[39mawait\u001b[39;00m \u001b[39mself\u001b[39m\u001b[39m.\u001b[39m_prepare(intro_query, use_cache\u001b[39m=\u001b[39m\u001b[39mTrue\u001b[39;00m)\n\u001b[1;32m    <a href='file:///Users/rajmani/Documents/research/Home/python/phobos-trading-engine/py39/lib/python3.9/site-packages/asyncpg/connection.py?line=978'>979</a>\u001b[0m opts \u001b[39m=\u001b[39m \u001b[39m'\u001b[39m\u001b[39m(FORMAT binary)\u001b[39m\u001b[39m'\u001b[39m\n\u001b[1;32m    <a href='file:///Users/rajmani/Documents/research/Home/python/phobos-trading-engine/py39/lib/python3.9/site-packages/asyncpg/connection.py?line=980'>981</a>\u001b[0m copy_stmt \u001b[39m=\u001b[39m \u001b[39m'\u001b[39m\u001b[39mCOPY \u001b[39m\u001b[39m{tab}\u001b[39;00m\u001b[39m{cols}\u001b[39;00m\u001b[39m FROM STDIN \u001b[39m\u001b[39m{opts}\u001b[39;00m\u001b[39m'\u001b[39m\u001b[39m.\u001b[39mformat(\n\u001b[1;32m    <a href='file:///Users/rajmani/Documents/research/Home/python/phobos-trading-engine/py39/lib/python3.9/site-packages/asyncpg/connection.py?line=981'>982</a>\u001b[0m     tab\u001b[39m=\u001b[39mtabname, cols\u001b[39m=\u001b[39mcols, opts\u001b[39m=\u001b[39mopts)\n",
      "File \u001b[0;32m~/Documents/research/Home/python/phobos-trading-engine/py39/lib/python3.9/site-packages/asyncpg/connection.py:584\u001b[0m, in \u001b[0;36mConnection._prepare\u001b[0;34m(self, query, name, timeout, use_cache, record_class)\u001b[0m\n\u001b[1;32m    <a href='file:///Users/rajmani/Documents/research/Home/python/phobos-trading-engine/py39/lib/python3.9/site-packages/asyncpg/connection.py?line=573'>574</a>\u001b[0m \u001b[39masync\u001b[39;00m \u001b[39mdef\u001b[39;00m \u001b[39m_prepare\u001b[39m(\n\u001b[1;32m    <a href='file:///Users/rajmani/Documents/research/Home/python/phobos-trading-engine/py39/lib/python3.9/site-packages/asyncpg/connection.py?line=574'>575</a>\u001b[0m     \u001b[39mself\u001b[39m,\n\u001b[1;32m    <a href='file:///Users/rajmani/Documents/research/Home/python/phobos-trading-engine/py39/lib/python3.9/site-packages/asyncpg/connection.py?line=575'>576</a>\u001b[0m     query,\n\u001b[0;32m   (...)\u001b[0m\n\u001b[1;32m    <a href='file:///Users/rajmani/Documents/research/Home/python/phobos-trading-engine/py39/lib/python3.9/site-packages/asyncpg/connection.py?line=580'>581</a>\u001b[0m     record_class\u001b[39m=\u001b[39m\u001b[39mNone\u001b[39;00m\n\u001b[1;32m    <a href='file:///Users/rajmani/Documents/research/Home/python/phobos-trading-engine/py39/lib/python3.9/site-packages/asyncpg/connection.py?line=581'>582</a>\u001b[0m ):\n\u001b[1;32m    <a href='file:///Users/rajmani/Documents/research/Home/python/phobos-trading-engine/py39/lib/python3.9/site-packages/asyncpg/connection.py?line=582'>583</a>\u001b[0m     \u001b[39mself\u001b[39m\u001b[39m.\u001b[39m_check_open()\n\u001b[0;32m--> <a href='file:///Users/rajmani/Documents/research/Home/python/phobos-trading-engine/py39/lib/python3.9/site-packages/asyncpg/connection.py?line=583'>584</a>\u001b[0m     stmt \u001b[39m=\u001b[39m \u001b[39mawait\u001b[39;00m \u001b[39mself\u001b[39m\u001b[39m.\u001b[39m_get_statement(\n\u001b[1;32m    <a href='file:///Users/rajmani/Documents/research/Home/python/phobos-trading-engine/py39/lib/python3.9/site-packages/asyncpg/connection.py?line=584'>585</a>\u001b[0m         query,\n\u001b[1;32m    <a href='file:///Users/rajmani/Documents/research/Home/python/phobos-trading-engine/py39/lib/python3.9/site-packages/asyncpg/connection.py?line=585'>586</a>\u001b[0m         timeout,\n\u001b[1;32m    <a href='file:///Users/rajmani/Documents/research/Home/python/phobos-trading-engine/py39/lib/python3.9/site-packages/asyncpg/connection.py?line=586'>587</a>\u001b[0m         named\u001b[39m=\u001b[39m\u001b[39mTrue\u001b[39;00m \u001b[39mif\u001b[39;00m name \u001b[39mis\u001b[39;00m \u001b[39mNone\u001b[39;00m \u001b[39melse\u001b[39;00m name,\n\u001b[1;32m    <a href='file:///Users/rajmani/Documents/research/Home/python/phobos-trading-engine/py39/lib/python3.9/site-packages/asyncpg/connection.py?line=587'>588</a>\u001b[0m         use_cache\u001b[39m=\u001b[39muse_cache,\n\u001b[1;32m    <a href='file:///Users/rajmani/Documents/research/Home/python/phobos-trading-engine/py39/lib/python3.9/site-packages/asyncpg/connection.py?line=588'>589</a>\u001b[0m         record_class\u001b[39m=\u001b[39mrecord_class,\n\u001b[1;32m    <a href='file:///Users/rajmani/Documents/research/Home/python/phobos-trading-engine/py39/lib/python3.9/site-packages/asyncpg/connection.py?line=589'>590</a>\u001b[0m     )\n\u001b[1;32m    <a href='file:///Users/rajmani/Documents/research/Home/python/phobos-trading-engine/py39/lib/python3.9/site-packages/asyncpg/connection.py?line=590'>591</a>\u001b[0m     \u001b[39mreturn\u001b[39;00m prepared_stmt\u001b[39m.\u001b[39mPreparedStatement(\u001b[39mself\u001b[39m, query, stmt)\n",
      "File \u001b[0;32m~/Documents/research/Home/python/phobos-trading-engine/py39/lib/python3.9/site-packages/asyncpg/connection.py:398\u001b[0m, in \u001b[0;36mConnection._get_statement\u001b[0;34m(self, query, timeout, named, use_cache, ignore_custom_codec, record_class)\u001b[0m\n\u001b[1;32m    <a href='file:///Users/rajmani/Documents/research/Home/python/phobos-trading-engine/py39/lib/python3.9/site-packages/asyncpg/connection.py?line=394'>395</a>\u001b[0m \u001b[39melse\u001b[39;00m:\n\u001b[1;32m    <a href='file:///Users/rajmani/Documents/research/Home/python/phobos-trading-engine/py39/lib/python3.9/site-packages/asyncpg/connection.py?line=395'>396</a>\u001b[0m     stmt_name \u001b[39m=\u001b[39m \u001b[39m'\u001b[39m\u001b[39m'\u001b[39m\n\u001b[0;32m--> <a href='file:///Users/rajmani/Documents/research/Home/python/phobos-trading-engine/py39/lib/python3.9/site-packages/asyncpg/connection.py?line=397'>398</a>\u001b[0m statement \u001b[39m=\u001b[39m \u001b[39mawait\u001b[39;00m \u001b[39mself\u001b[39m\u001b[39m.\u001b[39m_protocol\u001b[39m.\u001b[39mprepare(\n\u001b[1;32m    <a href='file:///Users/rajmani/Documents/research/Home/python/phobos-trading-engine/py39/lib/python3.9/site-packages/asyncpg/connection.py?line=398'>399</a>\u001b[0m     stmt_name,\n\u001b[1;32m    <a href='file:///Users/rajmani/Documents/research/Home/python/phobos-trading-engine/py39/lib/python3.9/site-packages/asyncpg/connection.py?line=399'>400</a>\u001b[0m     query,\n\u001b[1;32m    <a href='file:///Users/rajmani/Documents/research/Home/python/phobos-trading-engine/py39/lib/python3.9/site-packages/asyncpg/connection.py?line=400'>401</a>\u001b[0m     timeout,\n\u001b[1;32m    <a href='file:///Users/rajmani/Documents/research/Home/python/phobos-trading-engine/py39/lib/python3.9/site-packages/asyncpg/connection.py?line=401'>402</a>\u001b[0m     record_class\u001b[39m=\u001b[39mrecord_class,\n\u001b[1;32m    <a href='file:///Users/rajmani/Documents/research/Home/python/phobos-trading-engine/py39/lib/python3.9/site-packages/asyncpg/connection.py?line=402'>403</a>\u001b[0m     ignore_custom_codec\u001b[39m=\u001b[39mignore_custom_codec,\n\u001b[1;32m    <a href='file:///Users/rajmani/Documents/research/Home/python/phobos-trading-engine/py39/lib/python3.9/site-packages/asyncpg/connection.py?line=403'>404</a>\u001b[0m )\n\u001b[1;32m    <a href='file:///Users/rajmani/Documents/research/Home/python/phobos-trading-engine/py39/lib/python3.9/site-packages/asyncpg/connection.py?line=404'>405</a>\u001b[0m need_reprepare \u001b[39m=\u001b[39m \u001b[39mFalse\u001b[39;00m\n\u001b[1;32m    <a href='file:///Users/rajmani/Documents/research/Home/python/phobos-trading-engine/py39/lib/python3.9/site-packages/asyncpg/connection.py?line=405'>406</a>\u001b[0m types_with_missing_codecs \u001b[39m=\u001b[39m statement\u001b[39m.\u001b[39m_init_types()\n",
      "File \u001b[0;32m~/Documents/research/Home/python/phobos-trading-engine/py39/lib/python3.9/site-packages/asyncpg/protocol/protocol.pyx:168\u001b[0m, in \u001b[0;36mprepare\u001b[0;34m()\u001b[0m\n",
      "\u001b[0;31mUndefinedTableError\u001b[0m: relation \"test_phobos\" does not exist"
     ]
    }
   ],
   "source": [
    "await conn.copy_records_to_table('test_phobos', records=raw.records, columns=column_names, )"
   ]
  },
  {
   "cell_type": "code",
   "execution_count": 42,
   "metadata": {},
   "outputs": [
    {
     "data": {
      "text/plain": [
       "('1650299085489-0',\n",
       " {'asks': '[[1650299075.931969, 39148.6, 9.86364601], [1650299075.931969, 39148.7, 1.02323], [1650299075.931969, 39155.9, 0.57993846], [1650299075.931969, 39156.0, 0.57552583], [1650299075.931969, 39160.0, 0.60727851], [1650299075.931969, 39164.0, 0.59584468], [1650299075.931969, 39167.9, 0.47851047], [1650299075.931969, 39171.6, 0.30648388], [1650299075.931969, 39172.7, 0.12763991], [1650299075.931969, 39175.9, 0.00023876]]',\n",
       "  'bids': '[[1650299075.931969, 39148.5, 5.31635584], [1650299075.931969, 39148.4, 0.10354211], [1650299075.931969, 39147.7, 0.19603266], [1650299075.931969, 39147.6, 3.83084875], [1650299075.931969, 39147.5, 0.05534614], [1650299075.931969, 39147.4, 0.20826965], [1650299075.931969, 39147.3, 5.10365374], [1650299075.931969, 39147.1, 0.11992914], [1650299075.931969, 39146.7, 7.01886828], [1650299075.931969, 39146.6, 0.10034254]]',\n",
       "  'trxn_time': '1650299075.931969',\n",
       "  'symbol': 'BTCUSD',\n",
       "  'best_bid': '39146.6',\n",
       "  'bid_size': '0.10034254',\n",
       "  'best_ask': '39175.9',\n",
       "  'ask_size': '0.00023876',\n",
       "  'best_bid_timestamp': '1650299075.931969',\n",
       "  'best_ask_timestamp': '1650299075.931969'})"
      ]
     },
     "execution_count": 42,
     "metadata": {},
     "output_type": "execute_result"
    }
   ],
   "source": [
    "raw.records[0]"
   ]
  },
  {
   "cell_type": "code",
   "execution_count": null,
   "metadata": {},
   "outputs": [],
   "source": []
  }
 ],
 "metadata": {
  "interpreter": {
   "hash": "2b70b52767623935102812dbdedb580aa16239eeecc01f92d1fdd08182959e17"
  },
  "kernelspec": {
   "display_name": "Python 3.9.10 ('py39': venv)",
   "language": "python",
   "name": "python3"
  },
  "language_info": {
   "codemirror_mode": {
    "name": "ipython",
    "version": 3
   },
   "file_extension": ".py",
   "mimetype": "text/x-python",
   "name": "python",
   "nbconvert_exporter": "python",
   "pygments_lexer": "ipython3",
   "version": "3.9.12"
  },
  "orig_nbformat": 4
 },
 "nbformat": 4,
 "nbformat_minor": 2
}
